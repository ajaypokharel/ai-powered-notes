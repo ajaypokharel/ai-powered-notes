{
 "cells": [
  {
   "attachments": {},
   "cell_type": "markdown",
   "id": "1ee8eaa4-d5f1-49a7-afdc-faae1ef7751e",
   "metadata": {},
   "source": [
    "#### Install OpenAI using Pip"
   ]
  },
  {
   "cell_type": "code",
   "execution_count": 10,
   "id": "fc802faa-98ec-4b0d-8b55-00d48f71c2f3",
   "metadata": {},
   "outputs": [
    {
     "name": "stdout",
     "output_type": "stream",
     "text": [
      "Defaulting to user installation because normal site-packages is not writeable\n",
      "Requirement already satisfied: openai in /Users/ajaypokharel/Library/Python/3.9/lib/python/site-packages (0.28.1)\n",
      "Requirement already satisfied: requests>=2.20 in /Users/ajaypokharel/Library/Python/3.9/lib/python/site-packages (from openai) (2.31.0)\n",
      "Requirement already satisfied: tqdm in /Users/ajaypokharel/Library/Python/3.9/lib/python/site-packages (from openai) (4.66.1)\n",
      "Requirement already satisfied: aiohttp in /Users/ajaypokharel/Library/Python/3.9/lib/python/site-packages (from openai) (3.8.6)\n",
      "Requirement already satisfied: charset-normalizer<4,>=2 in /Users/ajaypokharel/Library/Python/3.9/lib/python/site-packages (from requests>=2.20->openai) (3.2.0)\n",
      "Requirement already satisfied: idna<4,>=2.5 in /Users/ajaypokharel/Library/Python/3.9/lib/python/site-packages (from requests>=2.20->openai) (3.4)\n",
      "Requirement already satisfied: urllib3<3,>=1.21.1 in /Users/ajaypokharel/Library/Python/3.9/lib/python/site-packages (from requests>=2.20->openai) (2.0.4)\n",
      "Requirement already satisfied: certifi>=2017.4.17 in /Users/ajaypokharel/Library/Python/3.9/lib/python/site-packages (from requests>=2.20->openai) (2023.7.22)\n",
      "Requirement already satisfied: attrs>=17.3.0 in /Users/ajaypokharel/Library/Python/3.9/lib/python/site-packages (from aiohttp->openai) (23.1.0)\n",
      "Requirement already satisfied: multidict<7.0,>=4.5 in /Users/ajaypokharel/Library/Python/3.9/lib/python/site-packages (from aiohttp->openai) (6.0.4)\n",
      "Requirement already satisfied: async-timeout<5.0,>=4.0.0a3 in /Users/ajaypokharel/Library/Python/3.9/lib/python/site-packages (from aiohttp->openai) (4.0.3)\n",
      "Requirement already satisfied: yarl<2.0,>=1.0 in /Users/ajaypokharel/Library/Python/3.9/lib/python/site-packages (from aiohttp->openai) (1.9.2)\n",
      "Requirement already satisfied: frozenlist>=1.1.1 in /Users/ajaypokharel/Library/Python/3.9/lib/python/site-packages (from aiohttp->openai) (1.4.0)\n",
      "Requirement already satisfied: aiosignal>=1.1.2 in /Users/ajaypokharel/Library/Python/3.9/lib/python/site-packages (from aiohttp->openai) (1.3.1)\n",
      "\n",
      "\u001b[1m[\u001b[0m\u001b[34;49mnotice\u001b[0m\u001b[1;39;49m]\u001b[0m\u001b[39;49m A new release of pip is available: \u001b[0m\u001b[31;49m23.2.1\u001b[0m\u001b[39;49m -> \u001b[0m\u001b[32;49m23.3.1\u001b[0m\n",
      "\u001b[1m[\u001b[0m\u001b[34;49mnotice\u001b[0m\u001b[1;39;49m]\u001b[0m\u001b[39;49m To update, run: \u001b[0m\u001b[32;49m/Library/Developer/CommandLineTools/usr/bin/python3 -m pip install --upgrade pip\u001b[0m\n",
      "Defaulting to user installation because normal site-packages is not writeable\n",
      "Requirement already satisfied: sounddevice in /Users/ajaypokharel/Library/Python/3.9/lib/python/site-packages (0.4.6)\n",
      "Requirement already satisfied: CFFI>=1.0 in /Users/ajaypokharel/Library/Python/3.9/lib/python/site-packages (from sounddevice) (1.15.1)\n",
      "Requirement already satisfied: pycparser in /Users/ajaypokharel/Library/Python/3.9/lib/python/site-packages (from CFFI>=1.0->sounddevice) (2.21)\n",
      "\n",
      "\u001b[1m[\u001b[0m\u001b[34;49mnotice\u001b[0m\u001b[1;39;49m]\u001b[0m\u001b[39;49m A new release of pip is available: \u001b[0m\u001b[31;49m23.2.1\u001b[0m\u001b[39;49m -> \u001b[0m\u001b[32;49m23.3.1\u001b[0m\n",
      "\u001b[1m[\u001b[0m\u001b[34;49mnotice\u001b[0m\u001b[1;39;49m]\u001b[0m\u001b[39;49m To update, run: \u001b[0m\u001b[32;49m/Library/Developer/CommandLineTools/usr/bin/python3 -m pip install --upgrade pip\u001b[0m\n",
      "Defaulting to user installation because normal site-packages is not writeable\n",
      "Requirement already satisfied: numpy in /Users/ajaypokharel/Library/Python/3.9/lib/python/site-packages (1.26.1)\n",
      "\n",
      "\u001b[1m[\u001b[0m\u001b[34;49mnotice\u001b[0m\u001b[1;39;49m]\u001b[0m\u001b[39;49m A new release of pip is available: \u001b[0m\u001b[31;49m23.2.1\u001b[0m\u001b[39;49m -> \u001b[0m\u001b[32;49m23.3.1\u001b[0m\n",
      "\u001b[1m[\u001b[0m\u001b[34;49mnotice\u001b[0m\u001b[1;39;49m]\u001b[0m\u001b[39;49m To update, run: \u001b[0m\u001b[32;49m/Library/Developer/CommandLineTools/usr/bin/python3 -m pip install --upgrade pip\u001b[0m\n",
      "Defaulting to user installation because normal site-packages is not writeable\n",
      "Collecting pandas\n",
      "  Obtaining dependency information for pandas from https://files.pythonhosted.org/packages/9e/5f/b0ed836c904bda20804f496355febdd258acc2ceb6e74809704e5fb3942e/pandas-2.1.3-cp39-cp39-macosx_11_0_arm64.whl.metadata\n",
      "  Downloading pandas-2.1.3-cp39-cp39-macosx_11_0_arm64.whl.metadata (18 kB)\n",
      "Requirement already satisfied: numpy<2,>=1.22.4 in /Users/ajaypokharel/Library/Python/3.9/lib/python/site-packages (from pandas) (1.26.1)\n",
      "Requirement already satisfied: python-dateutil>=2.8.2 in /Users/ajaypokharel/Library/Python/3.9/lib/python/site-packages (from pandas) (2.8.2)\n",
      "Collecting pytz>=2020.1 (from pandas)\n",
      "  Obtaining dependency information for pytz>=2020.1 from https://files.pythonhosted.org/packages/32/4d/aaf7eff5deb402fd9a24a1449a8119f00d74ae9c2efa79f8ef9994261fc2/pytz-2023.3.post1-py2.py3-none-any.whl.metadata\n",
      "  Downloading pytz-2023.3.post1-py2.py3-none-any.whl.metadata (22 kB)\n",
      "Collecting tzdata>=2022.1 (from pandas)\n",
      "  Downloading tzdata-2023.3-py2.py3-none-any.whl (341 kB)\n",
      "\u001b[2K     \u001b[90m━━━━━━━━━━━━━━━━━━━━━━━━━━━━━━━━━━━━━━━\u001b[0m \u001b[32m341.8/341.8 kB\u001b[0m \u001b[31m4.1 MB/s\u001b[0m eta \u001b[36m0:00:00\u001b[0ma \u001b[36m0:00:01\u001b[0m\n",
      "\u001b[?25hRequirement already satisfied: six>=1.5 in /Library/Developer/CommandLineTools/Library/Frameworks/Python3.framework/Versions/3.9/lib/python3.9/site-packages (from python-dateutil>=2.8.2->pandas) (1.15.0)\n",
      "Downloading pandas-2.1.3-cp39-cp39-macosx_11_0_arm64.whl (11.0 MB)\n",
      "\u001b[2K   \u001b[90m━━━━━━━━━━━━━━━━━━━━━━━━━━━━━━━━━━━━━━━━\u001b[0m \u001b[32m11.0/11.0 MB\u001b[0m \u001b[31m3.8 MB/s\u001b[0m eta \u001b[36m0:00:00\u001b[0m00:01\u001b[0m00:01\u001b[0m\n",
      "\u001b[?25hDownloading pytz-2023.3.post1-py2.py3-none-any.whl (502 kB)\n",
      "\u001b[2K   \u001b[90m━━━━━━━━━━━━━━━━━━━━━━━━━━━━━━━━━━━━━━━━\u001b[0m \u001b[32m502.5/502.5 kB\u001b[0m \u001b[31m21.0 MB/s\u001b[0m eta \u001b[36m0:00:00\u001b[0m\n",
      "\u001b[?25hInstalling collected packages: pytz, tzdata, pandas\n",
      "Successfully installed pandas-2.1.3 pytz-2023.3.post1 tzdata-2023.3\n",
      "\n",
      "\u001b[1m[\u001b[0m\u001b[34;49mnotice\u001b[0m\u001b[1;39;49m]\u001b[0m\u001b[39;49m A new release of pip is available: \u001b[0m\u001b[31;49m23.2.1\u001b[0m\u001b[39;49m -> \u001b[0m\u001b[32;49m23.3.1\u001b[0m\n",
      "\u001b[1m[\u001b[0m\u001b[34;49mnotice\u001b[0m\u001b[1;39;49m]\u001b[0m\u001b[39;49m To update, run: \u001b[0m\u001b[32;49m/Library/Developer/CommandLineTools/usr/bin/python3 -m pip install --upgrade pip\u001b[0m\n"
     ]
    }
   ],
   "source": [
    "!python3 -m pip install openai\n",
    "!python3 -m pip install sounddevice\n",
    "!python3 -m pip install numpy\n",
    "!python3 -m pip install pandas\n"
   ]
  },
  {
   "attachments": {},
   "cell_type": "markdown",
   "id": "71607395-4184-4992-9308-0e12b4fbaa7e",
   "metadata": {},
   "source": [
    "#### Get API Key"
   ]
  },
  {
   "cell_type": "code",
   "execution_count": 24,
   "id": "f2e15799-6e24-4f78-9543-332f15d8780c",
   "metadata": {},
   "outputs": [],
   "source": [
    "import json\n",
    "\n",
    "with open(\"config.json\", 'r') as config_file:\n",
    "    config = json.load(config_file)\n",
    "\n",
    "api_key = config.get(\"API_KEY\")\n"
   ]
  },
  {
   "cell_type": "code",
   "execution_count": 25,
   "id": "33a6d62b-ad7d-43aa-88b2-7bc5e2afd0fe",
   "metadata": {},
   "outputs": [],
   "source": [
    "import openai\n",
    "import os\n",
    "import pandas as pd\n",
    "import uuid\n",
    "import time\n",
    "import csv\n",
    "\n",
    "openai.api_key = api_key\n",
    "audio_download_path = \"../youtube_to_audio/audio_download/\"\n",
    "audio_files = [f for f in os.listdir(audio_download_path) if os.path.isfile(os.path.join(audio_download_path, f))]\n"
   ]
  },
  {
   "cell_type": "code",
   "execution_count": 21,
   "id": "b1c8c63c",
   "metadata": {},
   "outputs": [
    {
     "name": "stdout",
     "output_type": "stream",
     "text": [
      "Transcribed file lecture1.mp3...\n",
      "Transcribed file lecture11.mp3...\n",
      "Transcribed file lecture10.mp3...\n",
      "Transcribed file lecture2.mp3...\n",
      "Transcribed file lecture12.mp3...\n",
      "Transcribed file lecture13.mp3...\n",
      "Transcribed file lecture3.mp3...\n",
      "Transcribed file lecture7.mp3...\n",
      "Transcribed file lecture17.mp3...\n",
      "Transcribed file lecture16.mp3...\n",
      "Transcribed file lecture6.mp3...\n",
      "Transcribed file lecture4.mp3...\n",
      "Transcribed file lecture14.mp3...\n",
      "Transcribed file lecture28.mp3...\n",
      "Transcribed file lecture29.mp3...\n",
      "Transcribed file lecture15.mp3...\n",
      "Transcribed file lecture5.mp3...\n",
      "Transcribed file lecture8.mp3...\n",
      "Transcribed file lecture18.mp3...\n",
      "Transcribed file lecture24.mp3...\n",
      "Transcribed file lecture30.mp3...\n",
      "Transcribed file lecture25.mp3...\n",
      "Transcribed file lecture19.mp3...\n",
      "Transcribed file lecture9.mp3...\n",
      "Transcribed file lecture27.mp3...\n",
      "Transcribed file lecture26.mp3...\n",
      "Transcribed file lecture22.mp3...\n",
      "Transcribed file lecture23.mp3...\n",
      "Transcribed file lecture21.mp3...\n",
      "Transcribed file lecture20.mp3...\n"
     ]
    }
   ],
   "source": [
    "# transcripts_df = pd.DataFrame(columns=['id', 'lecture', 'Notes'])\n",
    "lecture_transcript = []\n",
    "\n",
    "for audio_file_name in audio_files:\n",
    "    temp_row_entry = {}\n",
    "    audio_file = open(f\"{audio_download_path}{audio_file_name}\", \"rb\")\n",
    "    transcript = openai.Audio.transcribe(\"whisper-1\", audio_file)\n",
    "    print(f'Transcribed file {audio_file_name}...')\n",
    "    random_id = str(uuid.uuid4())\n",
    "    temp_row_entry[\"Id\"] = random_id\n",
    "    temp_row_entry[\"lecture\"] = transcript.text\n",
    "    lecture_transcript.append(temp_row_entry)\n",
    "    time.sleep(2)\n"
   ]
  },
  {
   "cell_type": "code",
   "execution_count": 22,
   "id": "3e2f03c4",
   "metadata": {},
   "outputs": [],
   "source": [
    "csv_columns = ['Id', 'lecture']\n",
    "# Save the DataFrame to a CSV file\n",
    "transcripts_csv_path = 'assets/transcripts.csv'\n",
    "with open(transcripts_csv_path, 'w') as file:\n",
    "    writer = csv.DictWriter(file, fieldnames=csv_columns)\n",
    "    writer.writeheader()\n",
    "    for data in lecture_transcript:\n",
    "        writer.writerow(data)"
   ]
  }
 ],
 "metadata": {
  "kernelspec": {
   "display_name": "Python 3 (ipykernel)",
   "language": "python",
   "name": "python3"
  },
  "language_info": {
   "codemirror_mode": {
    "name": "ipython",
    "version": 3
   },
   "file_extension": ".py",
   "mimetype": "text/x-python",
   "name": "python",
   "nbconvert_exporter": "python",
   "pygments_lexer": "ipython3",
   "version": "3.9.6"
  }
 },
 "nbformat": 4,
 "nbformat_minor": 5
}
