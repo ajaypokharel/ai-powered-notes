{
 "cells": [
  {
   "attachments": {},
   "cell_type": "markdown",
   "id": "1ee8eaa4-d5f1-49a7-afdc-faae1ef7751e",
   "metadata": {},
   "source": [
    "#### Install OpenAI using Pip"
   ]
  },
  {
   "cell_type": "code",
   "execution_count": 1,
   "id": "fc802faa-98ec-4b0d-8b55-00d48f71c2f3",
   "metadata": {},
   "outputs": [
    {
     "name": "stdout",
     "output_type": "stream",
     "text": [
      "Defaulting to user installation because normal site-packages is not writeable\n",
      "Requirement already satisfied: openai in /Users/ajaypokharel/Library/Python/3.9/lib/python/site-packages (0.28.1)\n",
      "Requirement already satisfied: requests>=2.20 in /Users/ajaypokharel/Library/Python/3.9/lib/python/site-packages (from openai) (2.31.0)\n",
      "Requirement already satisfied: tqdm in /Users/ajaypokharel/Library/Python/3.9/lib/python/site-packages (from openai) (4.66.1)\n",
      "Requirement already satisfied: aiohttp in /Users/ajaypokharel/Library/Python/3.9/lib/python/site-packages (from openai) (3.8.6)\n",
      "Requirement already satisfied: charset-normalizer<4,>=2 in /Users/ajaypokharel/Library/Python/3.9/lib/python/site-packages (from requests>=2.20->openai) (3.2.0)\n",
      "Requirement already satisfied: idna<4,>=2.5 in /Users/ajaypokharel/Library/Python/3.9/lib/python/site-packages (from requests>=2.20->openai) (3.4)\n",
      "Requirement already satisfied: urllib3<3,>=1.21.1 in /Users/ajaypokharel/Library/Python/3.9/lib/python/site-packages (from requests>=2.20->openai) (2.0.4)\n",
      "Requirement already satisfied: certifi>=2017.4.17 in /Users/ajaypokharel/Library/Python/3.9/lib/python/site-packages (from requests>=2.20->openai) (2023.7.22)\n",
      "Requirement already satisfied: attrs>=17.3.0 in /Users/ajaypokharel/Library/Python/3.9/lib/python/site-packages (from aiohttp->openai) (23.1.0)\n",
      "Requirement already satisfied: multidict<7.0,>=4.5 in /Users/ajaypokharel/Library/Python/3.9/lib/python/site-packages (from aiohttp->openai) (6.0.4)\n",
      "Requirement already satisfied: async-timeout<5.0,>=4.0.0a3 in /Users/ajaypokharel/Library/Python/3.9/lib/python/site-packages (from aiohttp->openai) (4.0.3)\n",
      "Requirement already satisfied: yarl<2.0,>=1.0 in /Users/ajaypokharel/Library/Python/3.9/lib/python/site-packages (from aiohttp->openai) (1.9.2)\n",
      "Requirement already satisfied: frozenlist>=1.1.1 in /Users/ajaypokharel/Library/Python/3.9/lib/python/site-packages (from aiohttp->openai) (1.4.0)\n",
      "Requirement already satisfied: aiosignal>=1.1.2 in /Users/ajaypokharel/Library/Python/3.9/lib/python/site-packages (from aiohttp->openai) (1.3.1)\n",
      "Defaulting to user installation because normal site-packages is not writeable\n",
      "Requirement already satisfied: sounddevice in /Users/ajaypokharel/Library/Python/3.9/lib/python/site-packages (0.4.6)\n",
      "Requirement already satisfied: CFFI>=1.0 in /Users/ajaypokharel/Library/Python/3.9/lib/python/site-packages (from sounddevice) (1.15.1)\n",
      "Requirement already satisfied: pycparser in /Users/ajaypokharel/Library/Python/3.9/lib/python/site-packages (from CFFI>=1.0->sounddevice) (2.21)\n",
      "Defaulting to user installation because normal site-packages is not writeable\n",
      "Requirement already satisfied: numpy in /Users/ajaypokharel/Library/Python/3.9/lib/python/site-packages (1.26.1)\n",
      "Defaulting to user installation because normal site-packages is not writeable\n",
      "Requirement already satisfied: pandas in /Users/ajaypokharel/Library/Python/3.9/lib/python/site-packages (2.1.3)\n",
      "Requirement already satisfied: numpy<2,>=1.22.4 in /Users/ajaypokharel/Library/Python/3.9/lib/python/site-packages (from pandas) (1.26.1)\n",
      "Requirement already satisfied: python-dateutil>=2.8.2 in /Users/ajaypokharel/Library/Python/3.9/lib/python/site-packages (from pandas) (2.8.2)\n",
      "Requirement already satisfied: pytz>=2020.1 in /Users/ajaypokharel/Library/Python/3.9/lib/python/site-packages (from pandas) (2023.3.post1)\n",
      "Requirement already satisfied: tzdata>=2022.1 in /Users/ajaypokharel/Library/Python/3.9/lib/python/site-packages (from pandas) (2023.3)\n",
      "Requirement already satisfied: six>=1.5 in /Library/Developer/CommandLineTools/Library/Frameworks/Python3.framework/Versions/3.9/lib/python3.9/site-packages (from python-dateutil>=2.8.2->pandas) (1.15.0)\n"
     ]
    }
   ],
   "source": [
    "!python3 -m pip install openai\n",
    "!python3 -m pip install sounddevice\n",
    "!python3 -m pip install numpy\n",
    "!python3 -m pip install pandas\n"
   ]
  },
  {
   "attachments": {},
   "cell_type": "markdown",
   "id": "71607395-4184-4992-9308-0e12b4fbaa7e",
   "metadata": {},
   "source": [
    "#### Get API Key"
   ]
  },
  {
   "cell_type": "code",
   "execution_count": 17,
   "id": "f2e15799-6e24-4f78-9543-332f15d8780c",
   "metadata": {},
   "outputs": [],
   "source": [
    "import json\n",
    "import openai\n",
    "\n",
    "with open(\"config.json\", 'r') as config_file:\n",
    "    config = json.load(config_file)\n",
    "\n",
    "api_key = config.get(\"API_KEY_2\")\n",
    "\n",
    "openai.api_key = api_key\n"
   ]
  },
  {
   "cell_type": "code",
   "execution_count": 18,
   "id": "33a6d62b-ad7d-43aa-88b2-7bc5e2afd0fe",
   "metadata": {},
   "outputs": [],
   "source": [
    "import os\n",
    "import pandas as pd\n",
    "import uuid\n",
    "import time\n",
    "import csv\n",
    "\n",
    "audio_download_path = \"../youtube_to_audio/audio_download/\"\n",
    "audio_files = [f for f in os.listdir(audio_download_path) if os.path.isfile(os.path.join(audio_download_path, f))]\n"
   ]
  },
  {
   "cell_type": "code",
   "execution_count": 5,
   "id": "1965247f",
   "metadata": {},
   "outputs": [
    {
     "name": "stdout",
     "output_type": "stream",
     "text": [
      "['lecture1.mp3', 'lecture39.mp3', 'lecture11.mp3', 'lecture10.mp3', 'lecture38.mp3', 'lecture2.mp3', 'lecture12.mp3', 'lecture13.mp3', 'lecture3.mp3', 'lecture7.mp3', 'lecture17.mp3', 'lecture16.mp3', 'lecture6.mp3', 'lecture4.mp3', 'lecture14.mp3', 'lecture28.mp3', 'lecture29.mp3', 'lecture15.mp3', 'lecture5.mp3', 'lecture66.mp3', 'lecture72.mp3', 'lecture73.mp3', 'lecture67.mp3', 'lecture59.mp3', 'lecture71.mp3', 'lecture65.mp3', 'lecture64.mp3', 'lecture70.mp3', 'lecture58.mp3', 'lecture74.mp3', 'lecture60.mp3', 'lecture48.mp3', 'lecture49.mp3', 'lecture61.mp3', 'lecture75.mp3', 'lecture63.mp3', 'lecture77.mp3', 'lecture76.mp3', 'lecture62.mp3', 'lecture47.mp3', 'lecture53.mp3', 'lecture52.mp3', 'lecture46.mp3', 'lecture78.mp3', 'lecture50.mp3', 'lecture44.mp3', 'lecture45.mp3', 'lecture51.mp3', 'lecture79.mp3', 'lecture55.mp3', 'lecture41.mp3', 'lecture69.mp3', 'lecture68.mp3', 'lecture40.mp3', 'lecture54.mp3', 'lecture42.mp3', 'lecture56.mp3', 'test_lecture.mp3', 'lecture57.mp3', 'lecture43.mp3', 'lecture80.mp3', 'lecture8.mp3', 'lecture18.mp3', 'lecture24.mp3', 'lecture30.mp3', 'lecture31.mp3', 'lecture25.mp3', 'lecture19.mp3', 'lecture9.mp3', 'lecture33.mp3', 'lecture27.mp3', 'lecture26.mp3', 'lecture32.mp3', 'lecture36.mp3', 'lecture22.mp3', 'lecture23.mp3', 'lecture37.mp3', 'lecture21.mp3', 'lecture35.mp3', 'lecture34.mp3', 'lecture20.mp3']\n"
     ]
    }
   ],
   "source": [
    "print(audio_files)"
   ]
  },
  {
   "cell_type": "code",
   "execution_count": 4,
   "id": "b1c8c63c",
   "metadata": {},
   "outputs": [
    {
     "name": "stdout",
     "output_type": "stream",
     "text": [
      "Transcribed file lecture1.mp3...\n",
      "Transcribed file lecture39.mp3...\n",
      "Transcribed file lecture11.mp3...\n",
      "Transcribed file lecture10.mp3...\n",
      "Transcribed file lecture38.mp3...\n",
      "Transcribed file lecture2.mp3...\n",
      "Transcribed file lecture12.mp3...\n",
      "Transcribed file lecture13.mp3...\n",
      "Transcribed file lecture3.mp3...\n",
      "Transcribed file lecture7.mp3...\n",
      "Transcribed file lecture17.mp3...\n",
      "Transcribed file lecture16.mp3...\n",
      "Transcribed file lecture6.mp3...\n",
      "Transcribed file lecture4.mp3...\n",
      "Transcribed file lecture14.mp3...\n",
      "Transcribed file lecture28.mp3...\n",
      "Transcribed file lecture29.mp3...\n",
      "Transcribed file lecture15.mp3...\n",
      "Transcribed file lecture5.mp3...\n",
      "Transcribed file lecture66.mp3...\n",
      "Transcribed file lecture72.mp3...\n",
      "Transcribed file lecture73.mp3...\n",
      "Transcribed file lecture67.mp3...\n",
      "Transcribed file lecture59.mp3...\n"
     ]
    },
    {
     "ename": "RateLimitError",
     "evalue": "You exceeded your current quota, please check your plan and billing details.",
     "output_type": "error",
     "traceback": [
      "\u001b[0;31m---------------------------------------------------------------------------\u001b[0m",
      "\u001b[0;31mRateLimitError\u001b[0m                            Traceback (most recent call last)",
      "Cell \u001b[0;32mIn[4], line 6\u001b[0m\n\u001b[1;32m      4\u001b[0m temp_row_entry \u001b[39m=\u001b[39m {}\n\u001b[1;32m      5\u001b[0m audio_file \u001b[39m=\u001b[39m \u001b[39mopen\u001b[39m(\u001b[39mf\u001b[39m\u001b[39m\"\u001b[39m\u001b[39m{\u001b[39;00maudio_download_path\u001b[39m}\u001b[39;00m\u001b[39m{\u001b[39;00maudio_file_name\u001b[39m}\u001b[39;00m\u001b[39m\"\u001b[39m, \u001b[39m\"\u001b[39m\u001b[39mrb\u001b[39m\u001b[39m\"\u001b[39m)\n\u001b[0;32m----> 6\u001b[0m transcript \u001b[39m=\u001b[39m openai\u001b[39m.\u001b[39;49mAudio\u001b[39m.\u001b[39;49mtranscribe(\u001b[39m\"\u001b[39;49m\u001b[39mwhisper-1\u001b[39;49m\u001b[39m\"\u001b[39;49m, audio_file)\n\u001b[1;32m      7\u001b[0m \u001b[39mprint\u001b[39m(\u001b[39mf\u001b[39m\u001b[39m'\u001b[39m\u001b[39mTranscribed file \u001b[39m\u001b[39m{\u001b[39;00maudio_file_name\u001b[39m}\u001b[39;00m\u001b[39m...\u001b[39m\u001b[39m'\u001b[39m)\n\u001b[1;32m      8\u001b[0m random_id \u001b[39m=\u001b[39m \u001b[39mstr\u001b[39m(uuid\u001b[39m.\u001b[39muuid4())\n",
      "File \u001b[0;32m~/Library/Python/3.9/lib/python/site-packages/openai/api_resources/audio.py:72\u001b[0m, in \u001b[0;36mAudio.transcribe\u001b[0;34m(cls, model, file, api_key, api_base, api_type, api_version, organization, deployment_id, **params)\u001b[0m\n\u001b[1;32m     70\u001b[0m api_type, api_version \u001b[39m=\u001b[39m \u001b[39mcls\u001b[39m\u001b[39m.\u001b[39m_get_api_type_and_version(api_type, api_version)\n\u001b[1;32m     71\u001b[0m url \u001b[39m=\u001b[39m \u001b[39mcls\u001b[39m\u001b[39m.\u001b[39m_get_url(\u001b[39m\"\u001b[39m\u001b[39mtranscriptions\u001b[39m\u001b[39m\"\u001b[39m, deployment_id\u001b[39m=\u001b[39mdeployment_id, api_type\u001b[39m=\u001b[39mapi_type, api_version\u001b[39m=\u001b[39mapi_version)\n\u001b[0;32m---> 72\u001b[0m response, _, api_key \u001b[39m=\u001b[39m requestor\u001b[39m.\u001b[39;49mrequest(\u001b[39m\"\u001b[39;49m\u001b[39mpost\u001b[39;49m\u001b[39m\"\u001b[39;49m, url, files\u001b[39m=\u001b[39;49mfiles, params\u001b[39m=\u001b[39;49mdata)\n\u001b[1;32m     73\u001b[0m \u001b[39mreturn\u001b[39;00m util\u001b[39m.\u001b[39mconvert_to_openai_object(\n\u001b[1;32m     74\u001b[0m     response, api_key, api_version, organization\n\u001b[1;32m     75\u001b[0m )\n",
      "File \u001b[0;32m~/Library/Python/3.9/lib/python/site-packages/openai/api_requestor.py:299\u001b[0m, in \u001b[0;36mAPIRequestor.request\u001b[0;34m(self, method, url, params, headers, files, stream, request_id, request_timeout)\u001b[0m\n\u001b[1;32m    278\u001b[0m \u001b[39mdef\u001b[39;00m \u001b[39mrequest\u001b[39m(\n\u001b[1;32m    279\u001b[0m     \u001b[39mself\u001b[39m,\n\u001b[1;32m    280\u001b[0m     method,\n\u001b[0;32m   (...)\u001b[0m\n\u001b[1;32m    287\u001b[0m     request_timeout: Optional[Union[\u001b[39mfloat\u001b[39m, Tuple[\u001b[39mfloat\u001b[39m, \u001b[39mfloat\u001b[39m]]] \u001b[39m=\u001b[39m \u001b[39mNone\u001b[39;00m,\n\u001b[1;32m    288\u001b[0m ) \u001b[39m-\u001b[39m\u001b[39m>\u001b[39m Tuple[Union[OpenAIResponse, Iterator[OpenAIResponse]], \u001b[39mbool\u001b[39m, \u001b[39mstr\u001b[39m]:\n\u001b[1;32m    289\u001b[0m     result \u001b[39m=\u001b[39m \u001b[39mself\u001b[39m\u001b[39m.\u001b[39mrequest_raw(\n\u001b[1;32m    290\u001b[0m         method\u001b[39m.\u001b[39mlower(),\n\u001b[1;32m    291\u001b[0m         url,\n\u001b[0;32m   (...)\u001b[0m\n\u001b[1;32m    297\u001b[0m         request_timeout\u001b[39m=\u001b[39mrequest_timeout,\n\u001b[1;32m    298\u001b[0m     )\n\u001b[0;32m--> 299\u001b[0m     resp, got_stream \u001b[39m=\u001b[39m \u001b[39mself\u001b[39;49m\u001b[39m.\u001b[39;49m_interpret_response(result, stream)\n\u001b[1;32m    300\u001b[0m     \u001b[39mreturn\u001b[39;00m resp, got_stream, \u001b[39mself\u001b[39m\u001b[39m.\u001b[39mapi_key\n",
      "File \u001b[0;32m~/Library/Python/3.9/lib/python/site-packages/openai/api_requestor.py:710\u001b[0m, in \u001b[0;36mAPIRequestor._interpret_response\u001b[0;34m(self, result, stream)\u001b[0m\n\u001b[1;32m    702\u001b[0m     \u001b[39mreturn\u001b[39;00m (\n\u001b[1;32m    703\u001b[0m         \u001b[39mself\u001b[39m\u001b[39m.\u001b[39m_interpret_response_line(\n\u001b[1;32m    704\u001b[0m             line, result\u001b[39m.\u001b[39mstatus_code, result\u001b[39m.\u001b[39mheaders, stream\u001b[39m=\u001b[39m\u001b[39mTrue\u001b[39;00m\n\u001b[1;32m    705\u001b[0m         )\n\u001b[1;32m    706\u001b[0m         \u001b[39mfor\u001b[39;00m line \u001b[39min\u001b[39;00m parse_stream(result\u001b[39m.\u001b[39miter_lines())\n\u001b[1;32m    707\u001b[0m     ), \u001b[39mTrue\u001b[39;00m\n\u001b[1;32m    708\u001b[0m \u001b[39melse\u001b[39;00m:\n\u001b[1;32m    709\u001b[0m     \u001b[39mreturn\u001b[39;00m (\n\u001b[0;32m--> 710\u001b[0m         \u001b[39mself\u001b[39;49m\u001b[39m.\u001b[39;49m_interpret_response_line(\n\u001b[1;32m    711\u001b[0m             result\u001b[39m.\u001b[39;49mcontent\u001b[39m.\u001b[39;49mdecode(\u001b[39m\"\u001b[39;49m\u001b[39mutf-8\u001b[39;49m\u001b[39m\"\u001b[39;49m),\n\u001b[1;32m    712\u001b[0m             result\u001b[39m.\u001b[39;49mstatus_code,\n\u001b[1;32m    713\u001b[0m             result\u001b[39m.\u001b[39;49mheaders,\n\u001b[1;32m    714\u001b[0m             stream\u001b[39m=\u001b[39;49m\u001b[39mFalse\u001b[39;49;00m,\n\u001b[1;32m    715\u001b[0m         ),\n\u001b[1;32m    716\u001b[0m         \u001b[39mFalse\u001b[39;00m,\n\u001b[1;32m    717\u001b[0m     )\n",
      "File \u001b[0;32m~/Library/Python/3.9/lib/python/site-packages/openai/api_requestor.py:775\u001b[0m, in \u001b[0;36mAPIRequestor._interpret_response_line\u001b[0;34m(self, rbody, rcode, rheaders, stream)\u001b[0m\n\u001b[1;32m    773\u001b[0m stream_error \u001b[39m=\u001b[39m stream \u001b[39mand\u001b[39;00m \u001b[39m\"\u001b[39m\u001b[39merror\u001b[39m\u001b[39m\"\u001b[39m \u001b[39min\u001b[39;00m resp\u001b[39m.\u001b[39mdata\n\u001b[1;32m    774\u001b[0m \u001b[39mif\u001b[39;00m stream_error \u001b[39mor\u001b[39;00m \u001b[39mnot\u001b[39;00m \u001b[39m200\u001b[39m \u001b[39m<\u001b[39m\u001b[39m=\u001b[39m rcode \u001b[39m<\u001b[39m \u001b[39m300\u001b[39m:\n\u001b[0;32m--> 775\u001b[0m     \u001b[39mraise\u001b[39;00m \u001b[39mself\u001b[39m\u001b[39m.\u001b[39mhandle_error_response(\n\u001b[1;32m    776\u001b[0m         rbody, rcode, resp\u001b[39m.\u001b[39mdata, rheaders, stream_error\u001b[39m=\u001b[39mstream_error\n\u001b[1;32m    777\u001b[0m     )\n\u001b[1;32m    778\u001b[0m \u001b[39mreturn\u001b[39;00m resp\n",
      "\u001b[0;31mRateLimitError\u001b[0m: You exceeded your current quota, please check your plan and billing details."
     ]
    }
   ],
   "source": [
    "\n",
    "lecture_transcript = []\n",
    "\n",
    "for audio_file_name in audio_files[:24]:\n",
    "    temp_row_entry = {}\n",
    "    audio_file = open(f\"{audio_download_path}{audio_file_name}\", \"rb\")\n",
    "    transcript = openai.Audio.transcribe(\"whisper-1\", audio_file)\n",
    "    print(f'Transcribed file {audio_file_name}...')\n",
    "    random_id = str(uuid.uuid4())\n",
    "    temp_row_entry[\"Id\"] = random_id\n",
    "    temp_row_entry[\"lecture\"] = transcript.text\n",
    "    lecture_transcript.append(temp_row_entry)\n",
    "    time.sleep(2)\n"
   ]
  },
  {
   "cell_type": "code",
   "execution_count": 20,
   "id": "a1e775be",
   "metadata": {},
   "outputs": [],
   "source": [
    "# test transcription\n",
    "audio_file = open(f\"{audio_download_path}test_lecture.mp3\", \"rb\")\n",
    "transcript = openai.Audio.transcribe(\"whisper-1\", audio_file)\n",
    "\n",
    "with open(\"assets/test.txt\", 'w') as file:\n",
    "    file.write(transcript.text)"
   ]
  },
  {
   "cell_type": "code",
   "execution_count": 10,
   "id": "a7b43a38",
   "metadata": {},
   "outputs": [
    {
     "name": "stdout",
     "output_type": "stream",
     "text": [
      "Transcribed file lecture65.mp3...\n",
      "Transcribed file lecture64.mp3...\n",
      "Transcribed file lecture70.mp3...\n",
      "Transcribed file lecture58.mp3...\n",
      "Transcribed file lecture74.mp3...\n",
      "Transcribed file lecture60.mp3...\n",
      "Transcribed file lecture48.mp3...\n",
      "Transcribed file lecture49.mp3...\n",
      "Transcribed file lecture61.mp3...\n",
      "Transcribed file lecture75.mp3...\n",
      "Transcribed file lecture63.mp3...\n",
      "Transcribed file lecture77.mp3...\n",
      "Transcribed file lecture76.mp3...\n",
      "Transcribed file lecture62.mp3...\n",
      "Transcribed file lecture47.mp3...\n",
      "Transcribed file lecture53.mp3...\n",
      "Transcribed file lecture52.mp3...\n",
      "Transcribed file lecture46.mp3...\n",
      "Transcribed file lecture78.mp3...\n",
      "Transcribed file lecture50.mp3...\n",
      "Transcribed file lecture44.mp3...\n",
      "Transcribed file lecture45.mp3...\n",
      "Transcribed file lecture51.mp3...\n",
      "Transcribed file lecture79.mp3...\n",
      "Transcribed file lecture55.mp3...\n",
      "Transcribed file lecture41.mp3...\n",
      "Transcribed file lecture69.mp3...\n",
      "Transcribed file lecture68.mp3...\n",
      "Transcribed file lecture40.mp3...\n",
      "Transcribed file lecture54.mp3...\n",
      "Transcribed file lecture42.mp3...\n",
      "Transcribed file lecture56.mp3...\n",
      "Transcribed file test_lecture.mp3...\n",
      "Transcribed file lecture57.mp3...\n",
      "Transcribed file lecture43.mp3...\n",
      "Transcribed file lecture80.mp3...\n",
      "Transcribed file lecture8.mp3...\n",
      "Transcribed file lecture18.mp3...\n",
      "Transcribed file lecture24.mp3...\n",
      "Transcribed file lecture30.mp3...\n",
      "Transcribed file lecture31.mp3...\n",
      "Transcribed file lecture25.mp3...\n",
      "Transcribed file lecture19.mp3...\n",
      "Transcribed file lecture9.mp3...\n",
      "Transcribed file lecture33.mp3...\n",
      "Transcribed file lecture27.mp3...\n",
      "Transcribed file lecture26.mp3...\n",
      "Transcribed file lecture32.mp3...\n",
      "Transcribed file lecture36.mp3...\n",
      "Transcribed file lecture22.mp3...\n",
      "Transcribed file lecture23.mp3...\n",
      "Transcribed file lecture37.mp3...\n",
      "Transcribed file lecture21.mp3...\n",
      "Transcribed file lecture35.mp3...\n",
      "Transcribed file lecture34.mp3...\n",
      "Transcribed file lecture20.mp3...\n"
     ]
    }
   ],
   "source": [
    "for audio_file_name in audio_files[25:]:\n",
    "    temp_row_entry = {}\n",
    "    audio_file = open(f\"{audio_download_path}{audio_file_name}\", \"rb\")\n",
    "    transcript = openai.Audio.transcribe(\"whisper-1\", audio_file)\n",
    "    print(f'Transcribed file {audio_file_name}...')\n",
    "    random_id = str(uuid.uuid4())\n",
    "    temp_row_entry[\"Id\"] = random_id\n",
    "    temp_row_entry[\"lecture\"] = transcript.text\n",
    "    lecture_transcript.append(temp_row_entry)\n",
    "    time.sleep(2)"
   ]
  },
  {
   "cell_type": "code",
   "execution_count": 13,
   "id": "02c25465",
   "metadata": {},
   "outputs": [
    {
     "data": {
      "text/plain": [
       "80"
      ]
     },
     "execution_count": 13,
     "metadata": {},
     "output_type": "execute_result"
    }
   ],
   "source": [
    "len(lecture_transcript)"
   ]
  },
  {
   "cell_type": "code",
   "execution_count": 14,
   "id": "3e2f03c4",
   "metadata": {},
   "outputs": [],
   "source": [
    "csv_columns = ['Id', 'lecture']\n",
    "# Save the DataFrame to a CSV file\n",
    "transcripts_csv_path = 'assets/transcripts.csv'\n",
    "with open(transcripts_csv_path, 'w') as file:\n",
    "    writer = csv.DictWriter(file, fieldnames=csv_columns)\n",
    "    writer.writeheader()\n",
    "    for data in lecture_transcript:\n",
    "        writer.writerow(data)"
   ]
  },
  {
   "cell_type": "code",
   "execution_count": 16,
   "id": "a7eb37cd",
   "metadata": {},
   "outputs": [
    {
     "name": "stdout",
     "output_type": "stream",
     "text": [
      "The goal of this video is to appreciate how ideas of natural rights and social contract and limited government and popular sovereignty are embedded in America's founding documents. But before we start looking at the documents themselves, let's just make sure we understand the context in which they were written. As we enter into the mid-1770s, you have the beginning of the American Revolutionary War, which begins in 1775. A little more than a year after the beginning of the war, you have the Second Continental Congress decide to formally declare independence on July 2nd, and the Declaration of Independence, which we will study a bit in this video, is formally approved on July 4th, 1776, which is when we now celebrate Independence Day, even though some could argue that it was July 2nd. Now, as soon as the colonies decide that they are independent from the Kingdom of Great Britain, they have to think about how do we govern ourselves. And so within roughly a week, a little more than a week, after the Declaration of Independence is approved, they start drafting the Articles of Confederation. Remember, the Revolutionary War is still going on. Eventually, what will be known as the Articles of Confederation go into effect in 1781. Now, this Articles of Confederation really treat the various colonies as you could almost view it as separate states that agree to work together for purposes of getting independence from Great Britain, for purposes of fighting the war, for purposes of diplomacy. Now, over the course of the next several years, it becomes clear, especially through things like Shay's Rebellion, which we will look at in other videos, that the Articles of Confederation don't provide a strong enough central government. And so in May 1787, you have what is called as the Constitutional Convention convening. It's presided over by George Washington, who led the Americans in the Revolutionary War, which they eventually will win, as you see, and obviously we're an independent country now. And the original intent of the Constitutional Convention was to revise the Articles of Confederation. But folks like Madison and Hamilton were really intent on just completely replacing it. And what they replaced it with was what is now the U.S. Constitution, which goes into effect in March of 1789. And shortly thereafter, you have the beginning of Washington's two terms. And to be clear, the idea of even having a powerful executive, the idea of even having a president, was not present in the Articles of Confederation. That comes with the Constitution. So with that context out of the way, let's look at especially the Declaration of Independence and the U.S. Constitution. So here's the beginning of the Declaration of Independence, written by Jefferson and edited by Benjamin Franklin and John Adams. And I encourage you to pause this video and first try to read it on your own and see if you can identify these ideas of natural rights, limited government, popular sovereignty, republicanism, and social contract. Okay, let's read this together now. When in the course of human events, it becomes necessary for one people to dissolve the political bonds which have connected them with another. Remember, this is a Declaration of Independence. They are dissolving the political bonds with the kingdom of Great Britain. And to assume among the powers of the earth the separate and equal station to which the laws of nature and of nature's God entitle them. So that's starting to refer a little bit to natural rights. A decent respect to the opinions of mankind requires that they should declare the causes which impel them to the separation. So they're saying, hey, we're writing this document because we're trying to show the rest of mankind why the reasons for which we are deciding to declare our independence from Great Britain. We hold these truths to be self-evident, that all men are created equal. Let me underline this. That all men are created equal. That they are endowed by their creator with certain unalienable rights, that among these are life, liberty, and the pursuit of happiness. So this is a direct reference to natural rights. In fact, the phrase life, liberty, and the pursuit of happiness, most historians believe is in direct reference to John Locke's phrase life, liberty, and property when he talks about natural rights. So this is direct reference to the Enlightenment ideas or even the pre-Enlightenment ideas of natural rights. That to secure these rights, governments are instituted among men, deriving their just powers from the consent of the governed. All right, this is worth underlining as well because they're talking about governments being instituted among men to secure these rights. This is all about social contract. So that's social contract. That we form a government in order to secure rights. We might give it some rights, but in exchange, the government has to protect our rights. And they derive their powers from the consent of the governed. So let me write that. Let me underline that actually in a different color. Derive their powers from the consent of the governed. That is popular sovereignty. Popular, I'll just write it as pop-sov. Popular sovereignty right over here. That the people are the sovereigns. That whenever any form of government becomes destructive to these ends, it is the right of the people to alter or to abolish it and to institute a new government, laying its foundation on such principles and organizing its powers in such form as to them shall seem most likely to affect their safety and happiness. So this is more about social contract. They're like, look, if a government breaks its social contract, we have a right to replace it. And the document also makes reference to organizing its powers in such form. So that's really talking about limited government. They're talking about, hey, this government just won't have the absolute right to do anything. So that right over there is limited government. Prudence indeed will dictate that governments long established should not be changed for light and transient causes. They're essentially saying, look, you shouldn't just overthrow your government on a whim. And accordingly, all experience have shown that mankind are more disposed to suffer while evils are sufferable than to right themselves by abolishing the forms to which they are accustomed. So they're saying, look, if you're prudent, you wouldn't just overthrow your government on a whim. But they're kind of saying we're not so worried about that because history has shown us, experience has shown us that if anything, people are more likely to keep suffering even when they should be overthrowing their government. But when a long train of abuses and usurpations pursuing invariably the same object evinces a design to reduce them under absolute despotism, it is their right, it is their duty to throw off such government and to provide new guards for their future security. So they're saying, hey, look, the Kingdom of Great Britain, they are abusing us. They are usurping power. Usurping is taking something from you that is yours. And so we need to throw off such a government for our own future security. And here it says provide new guards for their future security. So this provide new guards, once again, making reference to limited government.\n"
     ]
    }
   ],
   "source": [
    "print(lecture_transcript[2].get(\"lecture\", ''))"
   ]
  },
  {
   "cell_type": "code",
   "execution_count": 38,
   "id": "54f2eaff",
   "metadata": {},
   "outputs": [],
   "source": [
    "def call_gpt(prompt, tokens):\n",
    "    response = openai.Completion.create(\n",
    "        engine=\"text-davinci-002\",  # You can specify the most suitable engine\n",
    "        prompt=prompt,\n",
    "        max_tokens=tokens\n",
    "    )\n",
    "\n",
    "    # Extract and format the output\n",
    "    output = response.choices[0].text\n",
    "    return output"
   ]
  },
  {
   "cell_type": "code",
   "execution_count": 40,
   "id": "13d6de46",
   "metadata": {},
   "outputs": [
    {
     "name": "stdout",
     "output_type": "stream",
     "text": [
      "\n",
      "- The Articles of Confederation were created shortly after the Declaration of Independence in 1776 in order to establish a mutual defense union and allow for some free trade between the states.\n",
      "- The Articles establish the United States of America as a confederacy of sovereign states that retain all power and jurisdiction not delegated to the confederacy. \n",
      "- In order to generate revenue, the confederacy could not tax citizens, but had to appeal to states for contributions. \n",
      "- As a result of these weaknesses, Shays' Rebellion erupted in Western Massachusetts in 1786. The rebellion, lead by Daniel Shays, was a response to the heavy debt and lack of payment many farmers and veteran soldiers faced. \n",
      "- The rebellion was put down by a militia, but served as a catalyst for the drafting of the Constitution in 1787. The Constitution replaced the Articles of Confederation and established a stronger central government.\n"
     ]
    }
   ],
   "source": [
    "lec = lecture_transcript[5].get(\"lecture\", '')\n",
    "prompt = f\"\"\"\n",
    "Your task is to create student-friendly notes summarizing the lecture transcript provided. \n",
    "The lecture is a transcription of an actual class lecture.\n",
    "\n",
    "### Instructions:\n",
    "1. Identify the topic and start with the introduction to the topic. \n",
    "2. Identify key subtopics discussed in the lecture.\n",
    "3. Use bullet points to highlight important information under each subtopic.\n",
    "4. Include relevant examples or explanations to enhance understanding.\n",
    "5. Aim for clarity and brevity to make the notes easily digestible.\n",
    "\n",
    "### Additional Context:\n",
    "Feel free to supplement the notes with additional context based on your knowledge of the topic. \n",
    "If specific terms, concepts, or historical background can enhance the understanding of the content, include them.\n",
    "\n",
    "<lecture_transcript>: {lec}\n",
    "\"\"\"\n",
    "response = call_gpt(prompt, 1024)\n",
    "print(response)"
   ]
  }
 ],
 "metadata": {
  "kernelspec": {
   "display_name": "Python 3 (ipykernel)",
   "language": "python",
   "name": "python3"
  },
  "language_info": {
   "codemirror_mode": {
    "name": "ipython",
    "version": 3
   },
   "file_extension": ".py",
   "mimetype": "text/x-python",
   "name": "python",
   "nbconvert_exporter": "python",
   "pygments_lexer": "ipython3",
   "version": "3.9.6"
  }
 },
 "nbformat": 4,
 "nbformat_minor": 5
}
