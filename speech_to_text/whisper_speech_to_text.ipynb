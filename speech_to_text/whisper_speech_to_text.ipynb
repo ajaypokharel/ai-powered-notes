{
 "cells": [
  {
   "cell_type": "markdown",
   "id": "1ee8eaa4-d5f1-49a7-afdc-faae1ef7751e",
   "metadata": {},
   "source": [
    "#### Install OpenAI using Pip"
   ]
  },
  {
   "cell_type": "code",
   "execution_count": 1,
   "id": "fc802faa-98ec-4b0d-8b55-00d48f71c2f3",
   "metadata": {},
   "outputs": [
    {
     "name": "stdout",
     "output_type": "stream",
     "text": [
      "Requirement already satisfied: openai in /home/ajay/Documents/github/ai-powered-notes/venv/lib/python3.8/site-packages (0.28.0)\n",
      "Requirement already satisfied: requests>=2.20 in /home/ajay/Documents/github/ai-powered-notes/venv/lib/python3.8/site-packages (from openai) (2.31.0)\n",
      "Requirement already satisfied: tqdm in /home/ajay/Documents/github/ai-powered-notes/venv/lib/python3.8/site-packages (from openai) (4.66.1)\n",
      "Requirement already satisfied: aiohttp in /home/ajay/Documents/github/ai-powered-notes/venv/lib/python3.8/site-packages (from openai) (3.8.5)\n",
      "Requirement already satisfied: charset-normalizer<4,>=2 in /home/ajay/Documents/github/ai-powered-notes/venv/lib/python3.8/site-packages (from requests>=2.20->openai) (3.2.0)\n",
      "Requirement already satisfied: idna<4,>=2.5 in /home/ajay/Documents/github/ai-powered-notes/venv/lib/python3.8/site-packages (from requests>=2.20->openai) (3.4)\n",
      "Requirement already satisfied: urllib3<3,>=1.21.1 in /home/ajay/Documents/github/ai-powered-notes/venv/lib/python3.8/site-packages (from requests>=2.20->openai) (2.0.4)\n",
      "Requirement already satisfied: certifi>=2017.4.17 in /home/ajay/Documents/github/ai-powered-notes/venv/lib/python3.8/site-packages (from requests>=2.20->openai) (2023.7.22)\n",
      "Requirement already satisfied: attrs>=17.3.0 in /home/ajay/Documents/github/ai-powered-notes/venv/lib/python3.8/site-packages (from aiohttp->openai) (23.1.0)\n",
      "Requirement already satisfied: multidict<7.0,>=4.5 in /home/ajay/Documents/github/ai-powered-notes/venv/lib/python3.8/site-packages (from aiohttp->openai) (6.0.4)\n",
      "Requirement already satisfied: async-timeout<5.0,>=4.0.0a3 in /home/ajay/Documents/github/ai-powered-notes/venv/lib/python3.8/site-packages (from aiohttp->openai) (4.0.3)\n",
      "Requirement already satisfied: yarl<2.0,>=1.0 in /home/ajay/Documents/github/ai-powered-notes/venv/lib/python3.8/site-packages (from aiohttp->openai) (1.9.2)\n",
      "Requirement already satisfied: frozenlist>=1.1.1 in /home/ajay/Documents/github/ai-powered-notes/venv/lib/python3.8/site-packages (from aiohttp->openai) (1.4.0)\n",
      "Requirement already satisfied: aiosignal>=1.1.2 in /home/ajay/Documents/github/ai-powered-notes/venv/lib/python3.8/site-packages (from aiohttp->openai) (1.3.1)\n"
     ]
    }
   ],
   "source": [
    "!python3 -m pip install openai"
   ]
  },
  {
   "cell_type": "markdown",
   "id": "71607395-4184-4992-9308-0e12b4fbaa7e",
   "metadata": {},
   "source": [
    "#### Get API Key"
   ]
  },
  {
   "cell_type": "code",
   "execution_count": 6,
   "id": "f2e15799-6e24-4f78-9543-332f15d8780c",
   "metadata": {},
   "outputs": [],
   "source": [
    "import json\n",
    "\n",
    "with open(\"../config.json\", 'r') as config_file:\n",
    "    config = json.load(config_file)\n",
    "\n",
    "api_key = config.get(\"API_KEY\")"
   ]
  },
  {
   "cell_type": "code",
   "execution_count": 7,
   "id": "33a6d62b-ad7d-43aa-88b2-7bc5e2afd0fe",
   "metadata": {},
   "outputs": [],
   "source": [
    "import openai\n",
    "\n",
    "openai.api_key = api_key\n",
    "audio_file= open(\"assets/final.mp3\", \"rb\")\n",
    "transcript = openai.Audio.transcribe(\"whisper-1\", audio_file)"
   ]
  },
  {
   "cell_type": "code",
   "execution_count": 8,
   "id": "5bb0670f-7a50-4aa1-9a58-7a6287520d54",
   "metadata": {},
   "outputs": [
    {
     "name": "stdout",
     "output_type": "stream",
     "text": [
      "{\n",
      "  \"text\": \"Hello there and welcome to improve your voice. My name is Darren McStay and today we're going to talk about learning to speak more clearly through daily practice. So every time I get a message relating to how someone can improve their voice, it's often followed by the assumption that they can get this quickly. Like there's a quick fix of how to get this done. Unfortunately, with the voice, it doesn't really work like that. Your voice is created by your body using air manipulated accordingly through intentions and impulses created by the mind. Your body is a physiological machine. It is an instrument made of muscle bone fascia and many other bits and bobs thrown in. If you want to train this instrument to perform better, then you are no different to an athlete who also has to train their body. Only we're training our bodies in different ways. And of course we all know that the smarter an athlete works and the more consistent they are with their work, the better they become. This means that if you want to create permanent and positive results, which will ensure your instrument can function to the best of its ability, then you need to think and train like an athlete. Okay? Not by using the same muscles the same way as an athlete, but you need to practice regularly and dare I say it daily. Do you want to get better? Practice daily. Want to stop mumbling, practice daily, improve your confidence, practice daily, articulate better, resonate more, become more present, practice daily. But most importantly, and according to the way this video is titled, if you want to be clearer and better understood, then you need to practice speaking clearer daily. So it's all very well taking the exercises from my channel and also from my online course, which are designed to make your instrument the best it can be. But if you're not practicing using the instrument, it's just going to start getting a bit rusty and a bit dusty. So even though it's a good instrument and it's in good shape, it still needs to be played. And what I mean by that is to become more mindful and more purposeful with how you speak daily. So in order for you to learn and to understand and start practicing, speaking more clearly daily, I'm going to set you a task now, which you can start once this video is complete. I want you to go and find someone whose voice you like. Now this could be a TV personality, a newsreader, an actor, a politician, anyone that you know, whose voice you can find in many places, be it on films, radio, uh, cassette recordings, or anywhere you can find it on the internet is a great source of material. Of course, find someone whose voice you would like to sound a bit like. And what I want you to do is find a 30 to 60 seconds max recording and put it on your phone or your laptop of this person speaking. And what you're going to do is every day you're going to play that recording back, listen to it, stop it every few seconds and repeat what that person is saying exactly as you think they sound when they say it. Now I think it's important that you find someone who you believe to be a good speaker, someone you find to be articulate and clear in their voice, not just someone you like their voice. If it's a singer, for example, if it's a mumble rapper, that's not going to get you anywhere with your articulation, clearer speech. So what you want to do is find someone who maybe uses their voice as a speaker for a living, possibly an actor, or like I said before, a politician and try to notice what it is that makes their voice stand out. What is it that makes it clear? And I don't want you to worry too much about this. I just want you to do it every day now until you can impersonate the recording you have of this person until you can actually do it the way they do it. I don't want you to think too much about what it is they're doing. I just want you to mimic the sounds they make. And there's a reason for this. When we're children, everything we learn is through copying. It's through mimicking. This is how we learn. And what happens is as we get older, we form habits which aren't necessarily so good for our speech or good for our lives even. So what we need to do is to retrain our bodies to start thinking and acting and copying those who we now wish to sound like, or we now wish to become. So specifically with our voices, uh, find someone who you want to sound like or believe that has a quality in their voice that you would like to have in yours. And we're going to start mimicking that. That's how we're going to learn. So if there's a lot of words in this text, you can stop it every few seconds and repeat after them. Or if it's just a short piece of text, maybe it's easy for you to learn it and repeat it back. And once you get to the point where you can remember everything, that's great. Keep doing it. Keep listening to the recording every day until you feel you can do a very good impersonation. Now the best way for you to find out whether you're progressing and getting better with this is to record your own voice as well. And what you should do is if you do this listening exercise daily and speak along with it, then at the end of every week, you can record your voice and play that back against the other one and listen to yourself against how you sounded the week before. So you can do this for two weeks, a month, six months, a year. If you like, just do it until you're comfortable that something in your voice has changed. I don't want you to do this without using a warmup or some kind of physical exercises that get your body and your voice ready to speak. Now you can do this one of three ways. I have tons of videos on this channel and this one in particular is a great warmup. I'd like you to look at that every day before you do this exercise. So this way your body's in a really ready state to get started. And if you feel that after doing these exercises for say two weeks or a month and doing these warmup exercises and the one I've set you, then I think you would be ready to check out the online course. Do these exercises daily, go through all my videos, find everything you can practice daily, make something up, maybe just do one video a day. Failing that, if you really don't want to do these exercises and you don't want to practice daily, you're not going to get as far as you want as quick as you'd like. Of course, if you want to make permanent changes in your voice and permanent changes, positive results from your instrument, then you need to do a very specific set of exercises, which is why I put together my eight week online course because it took me 25 years to amass all that information and put it together in a structured way that I could teach others to literally transform their bodies from wherever they are into the ultimate speaking machine. But that aside, you have your task, whether you choose to take it or not, it's up to you. I hope you do. Thanks for joining me. My name is Darren McStay. This is improve your voice and until the next time practice using your voice.\"\n",
      "}\n"
     ]
    }
   ],
   "source": [
    "print(transcript)"
   ]
  },
  {
   "cell_type": "code",
   "execution_count": null,
   "id": "86d79b7a-b9fd-407d-929e-a3cb5aa12bd1",
   "metadata": {},
   "outputs": [],
   "source": []
  }
 ],
 "metadata": {
  "kernelspec": {
   "display_name": "Python 3 (ipykernel)",
   "language": "python",
   "name": "python3"
  },
  "language_info": {
   "codemirror_mode": {
    "name": "ipython",
    "version": 3
   },
   "file_extension": ".py",
   "mimetype": "text/x-python",
   "name": "python",
   "nbconvert_exporter": "python",
   "pygments_lexer": "ipython3",
   "version": "3.8.10"
  }
 },
 "nbformat": 4,
 "nbformat_minor": 5
}
