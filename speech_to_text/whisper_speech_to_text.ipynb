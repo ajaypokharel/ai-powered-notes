{
 "cells": [
  {
   "cell_type": "markdown",
   "id": "1ee8eaa4-d5f1-49a7-afdc-faae1ef7751e",
   "metadata": {},
   "source": [
    "#### Install OpenAI using Pip"
   ]
  },
  {
   "cell_type": "code",
   "execution_count": 1,
   "id": "fc802faa-98ec-4b0d-8b55-00d48f71c2f3",
   "metadata": {},
   "outputs": [
    {
     "name": "stdout",
     "output_type": "stream",
     "text": [
      "Requirement already satisfied: openai in /home/ajay/Documents/github/ai-powered-notes/venv/lib/python3.8/site-packages (0.28.0)\n",
      "Requirement already satisfied: requests>=2.20 in /home/ajay/Documents/github/ai-powered-notes/venv/lib/python3.8/site-packages (from openai) (2.31.0)\n",
      "Requirement already satisfied: tqdm in /home/ajay/Documents/github/ai-powered-notes/venv/lib/python3.8/site-packages (from openai) (4.66.1)\n",
      "Requirement already satisfied: aiohttp in /home/ajay/Documents/github/ai-powered-notes/venv/lib/python3.8/site-packages (from openai) (3.8.5)\n",
      "Requirement already satisfied: charset-normalizer<4,>=2 in /home/ajay/Documents/github/ai-powered-notes/venv/lib/python3.8/site-packages (from requests>=2.20->openai) (3.2.0)\n",
      "Requirement already satisfied: idna<4,>=2.5 in /home/ajay/Documents/github/ai-powered-notes/venv/lib/python3.8/site-packages (from requests>=2.20->openai) (3.4)\n",
      "Requirement already satisfied: urllib3<3,>=1.21.1 in /home/ajay/Documents/github/ai-powered-notes/venv/lib/python3.8/site-packages (from requests>=2.20->openai) (2.0.4)\n",
      "Requirement already satisfied: certifi>=2017.4.17 in /home/ajay/Documents/github/ai-powered-notes/venv/lib/python3.8/site-packages (from requests>=2.20->openai) (2023.7.22)\n",
      "Requirement already satisfied: attrs>=17.3.0 in /home/ajay/Documents/github/ai-powered-notes/venv/lib/python3.8/site-packages (from aiohttp->openai) (23.1.0)\n",
      "Requirement already satisfied: multidict<7.0,>=4.5 in /home/ajay/Documents/github/ai-powered-notes/venv/lib/python3.8/site-packages (from aiohttp->openai) (6.0.4)\n",
      "Requirement already satisfied: async-timeout<5.0,>=4.0.0a3 in /home/ajay/Documents/github/ai-powered-notes/venv/lib/python3.8/site-packages (from aiohttp->openai) (4.0.3)\n",
      "Requirement already satisfied: yarl<2.0,>=1.0 in /home/ajay/Documents/github/ai-powered-notes/venv/lib/python3.8/site-packages (from aiohttp->openai) (1.9.2)\n",
      "Requirement already satisfied: frozenlist>=1.1.1 in /home/ajay/Documents/github/ai-powered-notes/venv/lib/python3.8/site-packages (from aiohttp->openai) (1.4.0)\n",
      "Requirement already satisfied: aiosignal>=1.1.2 in /home/ajay/Documents/github/ai-powered-notes/venv/lib/python3.8/site-packages (from aiohttp->openai) (1.3.1)\n"
     ]
    }
   ],
   "source": [
    "!python3 -m pip install openai"
   ]
  },
  {
   "cell_type": "markdown",
   "id": "71607395-4184-4992-9308-0e12b4fbaa7e",
   "metadata": {},
   "source": [
    "#### Get API Key"
   ]
  },
  {
   "cell_type": "code",
   "execution_count": 2,
   "id": "f2e15799-6e24-4f78-9543-332f15d8780c",
   "metadata": {},
   "outputs": [],
   "source": [
    "import json\n",
    "\n",
    "with open(\"../config.json\", 'r') as config_file:\n",
    "    config = json.load(config_file)\n",
    "\n",
    "api_key = config.get(\"API_KEY\")"
   ]
  },
  {
   "cell_type": "code",
   "execution_count": 3,
   "id": "33a6d62b-ad7d-43aa-88b2-7bc5e2afd0fe",
   "metadata": {},
   "outputs": [],
   "source": [
    "import openai\n",
    "\n",
    "openai.api_key = api_key\n",
    "audio_file= open(\"../youtube_to_audio/audio_download/youtube_final.mp3\", \"rb\")\n",
    "transcript = openai.Audio.transcribe(\"whisper-1\", audio_file)"
   ]
  },
  {
   "cell_type": "code",
   "execution_count": 4,
   "id": "5bb0670f-7a50-4aa1-9a58-7a6287520d54",
   "metadata": {},
   "outputs": [
    {
     "name": "stdout",
     "output_type": "stream",
     "text": [
      "{\n",
      "  \"text\": \"The title of Thomas Piketty's book is Capital in the 21st Century, so it's probably worth having a conversation about what capital is. So if you're going to produce anything, so you wanna produce anything, you need some input, you need some factors for that production. So you would put them together. So let's say that you are a farm. You are a farm, your output is food. Well, what are your inputs going to be? So this is a farm right over here. Let me draw a little circle here. Farm, and your output is food. What are your inputs going to be? Well, you're going to need some land. You're going to need some water. You're going to need some equipment. Equipment. Equipment. And then you're going to need some, maybe you might need some seeds and animals, and so I'll just put generally here supplies. Supplies. And of course, you're going to need people to put all these things together and essentially work the land to plow the soil and plant the seeds and harvest the crops and manage the whole operations. So you're going to need labor. You're going to need labor as well. So you take all of these factors of production together. They essentially represent a farm that is going to output food. So when people talk about capital as a factor of production, sometimes they talk about it in a fairly narrow way. They'll separate things like land and resources as something separate, and they'll say capital is, hey, that's your equipment and your supplies. But when people talk in more general terms, especially in the focus of this book, when we're talking about labor versus capital, capital, when we just group things in only those two categories, in that context, capital would essentially represent pretty much everything else. So this right over here would be capital. And one way to think about capital is the things that you could maybe you, they are assets that you have that can be valued that will give you future benefit. And you can buy and sell those assets. And we can think about other businesses here, or other things that are trying to produce something. So let's say you have a, let's say that you have a mine. A mine. So a mine, so this is the operation, and it's going to produce, let's just say it's a gold mine. So it's going to produce gold. So what are the inputs that you would need there? Well, you're clearly going to need some labor. You're going to need the miners and the people who would manage the operation of the gold mine. But that's not all you need. You also need energy, maybe to operate some of your equipment. And actually, I would put energy in here too, some of which comes from the sun, but some of which you might have to purchase or have somehow. And then you would also need equipment. Equipment. And you would need supplies. I mean, we could consider energy a supply if you like, or you need a supply of energy, but you also might need, I don't know, tires or something like that. You might need food in order to provide for the labor. Who knows what else you might need in your mine. And you also would need, of course, land. You need access to land to actually mine. So here, if we think in very broad terms, you could view all of this as the capital. All of this as the capital. And of course, you have your labor, and you put your labor and your capital together, and you produce the gold. Now, another idea that you will hear in, well, you'll hear in life a lot, but obviously in a book about capital, this will come up a lot, is the idea of return on capital. Return on capital. And this is just a measure of, given a value of capital that you've employed, how much income are you getting for that capital? So, for example, let's say that, let's say that, let's say this farm. The total value of this capital, let's just say it is, I don't know, I'll make up a number here. Let's just say it is one million dollars. One million dollars is the total value of the land, and maybe you have access to your own lake, and the equipment, and the supplies here. It's one million dollars of capital. The value of that capital is one million dollars. And let's say that this, the income of the farm, after you pay the labor, so let's, actually, let's just do this in a little bit, in a little broader terms. Let's say the food's value, the food that's produced is, has a value of 100,000 dollars in the market. Now, out of that 100,000 dollars, you obviously had to pay your labor, so let's say that 50,000 dollars of it goes to the labor. 50,000 dollars goes to the labor. And we're saying this is in a given year, so you use the capital, the labor, you produce 100,000 dollars worth of food, 50,000 dollars goes to the labor. What's going to be your return on capital? Well, you have another 50,000 left over for the capital, for the owners of the capital, whoever owned the farm. So the owners of the capital would get the other, would get the other 50,000 dollars. So your return on capital is going to be 50,000 dollars. That's what the owner of the capital gets, and it's the return on their investment of one million dollars. One, one million dollars. And this is going to be, this is going to be the same thing as five divided by 100, or it would be five percent. You have a five percent return on capital. You invest a million dollars, you're going to get 50,000 dollars. If it was a six percent return on capital, you invest a million dollars, you get 60,000 dollars. Now that we've kind of thought about that a little bit, let's actually look at a pretty neat chart from the book. And once again, it's pretty neat. He has a, if you look right over here, pickety.pse.ens.fr, capital 21c, he has all the charts from his book, which make for interesting analysis at minimum. And he's gathered all of this information. This is pretty interesting. This is capital and slavery in the United States. And what's interesting about that is you, when you study American history, you talk a lot about slavery, but you need to realize that in the time of slavery, as abhorrent as it is and was, people viewed slaves as capital, not as labor, as they viewed them as something that they could buy or sell that they own, and that would create future income for them. And this just gives us a sense of kind of the breakdown of capital over history. You see down, at least in the United States, you see agricultural land. In 1770, it was a reasonable percentage, this is the value of capital as a percentage of national income. So the value of the land as a percentage of national income was much higher than it is today. And we see the other trend that the other domestic capital has become much more, much more valuable. You say, well, what is this other domestic capital? Well, this could be things like infrastructure, it could be technology, it could be mechanical technology, things like trains and cars and trucks and buses, or, and factories, or it could be software, it could be computers, whatever else. And as we see, as we went through the Industrial Revolution, the value of other forms of technology became, or other forms of capital other than land became more and more important for our economy. And obviously slavery ended in the late 1860s, mid-late 1860s, and obviously that went away. But it's just an interesting way to think about macroeconomic trends in the United States. Land in 1770 was a major factor of production, and it still is, obviously. We still need land in order to produce things, especially agriculture. Well, this is agricultural land. You still, it's still a major part. It's not like the land has disappeared. It's just that the economy has grown to be much more than just agriculture. So in 1770, agriculture was a big part of our economy. Now agriculture is a much, much smaller part of our economy. So this is just an interesting way to think about, well, okay, this is all of the capital, and this is both public and private capital included here. So public capital would be something that is owned by the public, by the government, while private capital would be something that is owned by private individuals or corporations or whatever else. But you see, on average, you have had kind of a fairly constant give or take a little bit that the total value of the capital has been around four to five times the value of the total productive output. Four to five times the value of the total productive output of the country.\"\n",
      "}\n"
     ]
    }
   ],
   "source": [
    "print(transcript)"
   ]
  },
  {
   "cell_type": "code",
   "execution_count": null,
   "id": "86d79b7a-b9fd-407d-929e-a3cb5aa12bd1",
   "metadata": {},
   "outputs": [],
   "source": []
  }
 ],
 "metadata": {
  "kernelspec": {
   "display_name": "Python 3 (ipykernel)",
   "language": "python",
   "name": "python3"
  },
  "language_info": {
   "codemirror_mode": {
    "name": "ipython",
    "version": 3
   },
   "file_extension": ".py",
   "mimetype": "text/x-python",
   "name": "python",
   "nbconvert_exporter": "python",
   "pygments_lexer": "ipython3",
   "version": "3.8.10"
  }
 },
 "nbformat": 4,
 "nbformat_minor": 5
}
