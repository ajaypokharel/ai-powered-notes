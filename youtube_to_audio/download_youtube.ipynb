{
 "cells": [
  {
   "cell_type": "code",
   "execution_count": 1,
   "id": "a423a8fa-db02-4287-a4fc-4a8207aafe89",
   "metadata": {},
   "outputs": [
    {
     "name": "stdout",
     "output_type": "stream",
     "text": [
      "Collecting pytube\n",
      "  Using cached pytube-15.0.0-py3-none-any.whl (57 kB)\n",
      "Installing collected packages: pytube\n",
      "Successfully installed pytube-15.0.0\n",
      "Collecting pydub\n",
      "  Using cached pydub-0.25.1-py2.py3-none-any.whl (32 kB)\n",
      "Installing collected packages: pydub\n",
      "Successfully installed pydub-0.25.1\n"
     ]
    }
   ],
   "source": [
    "!python3 -m pip install pytube\n",
    "!python3 -m pip install pydub"
   ]
  },
  {
   "cell_type": "code",
   "execution_count": 2,
   "id": "9f949d31-93c0-45b5-ad4c-274e5ebcac31",
   "metadata": {},
   "outputs": [],
   "source": [
    "from pytube import YouTube\n",
    "from pydub import AudioSegment\n",
    "import os"
   ]
  },
  {
   "cell_type": "code",
   "execution_count": 20,
   "id": "835ded50-2c49-4241-bda9-65b2e85c8e0c",
   "metadata": {},
   "outputs": [],
   "source": [
    "video_url = 'https://youtu.be/-epr8lPIZYE?si=sb_ppoEyk8S8hRPE'\n",
    "yt = YouTube(video_url)\n",
    "audio_stream = yt.streams.filter(only_audio=True).first()"
   ]
  },
  {
   "cell_type": "code",
   "execution_count": 21,
   "id": "32206616-5e82-4f79-bf6e-29deb74828df",
   "metadata": {},
   "outputs": [],
   "source": [
    "output_path = \"audio_download\"\n",
    "final_path = output_path + \"/youtube_final.mp3\""
   ]
  },
  {
   "cell_type": "code",
   "execution_count": 22,
   "id": "0a595480-8f37-4704-a558-ee8ce4353f1b",
   "metadata": {},
   "outputs": [],
   "source": [
    "# Download the audio stream as a temporary file\n",
    "temp_audio_file = audio_stream.download(output_path)\n",
    "\n",
    "# Convert the downloaded audio to MP3 format\n",
    "audio = AudioSegment.from_file(temp_audio_file)\n",
    "audio.export(final_path, format=\"mp3\")\n",
    "\n",
    "# Delete the temporary audio file\n",
    "os.remove(temp_audio_file)"
   ]
  }
 ],
 "metadata": {
  "kernelspec": {
   "display_name": "Python 3 (ipykernel)",
   "language": "python",
   "name": "python3"
  },
  "language_info": {
   "codemirror_mode": {
    "name": "ipython",
    "version": 3
   },
   "file_extension": ".py",
   "mimetype": "text/x-python",
   "name": "python",
   "nbconvert_exporter": "python",
   "pygments_lexer": "ipython3",
   "version": "3.8.10"
  }
 },
 "nbformat": 4,
 "nbformat_minor": 5
}
