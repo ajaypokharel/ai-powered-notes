{
 "cells": [
  {
   "cell_type": "code",
   "execution_count": 1,
   "id": "a423a8fa-db02-4287-a4fc-4a8207aafe89",
   "metadata": {},
   "outputs": [
    {
     "name": "stdout",
     "output_type": "stream",
     "text": [
      "Defaulting to user installation because normal site-packages is not writeable\n",
      "Requirement already satisfied: pytube in /Users/ajaypokharel/Library/Python/3.9/lib/python/site-packages (15.0.0)\n",
      "Defaulting to user installation because normal site-packages is not writeable\n",
      "Requirement already satisfied: pydub in /Users/ajaypokharel/Library/Python/3.9/lib/python/site-packages (0.25.1)\n"
     ]
    }
   ],
   "source": [
    "!python3 -m pip install pytube\n",
    "!python3 -m pip install pydub"
   ]
  },
  {
   "cell_type": "code",
   "execution_count": 2,
   "id": "9f949d31-93c0-45b5-ad4c-274e5ebcac31",
   "metadata": {},
   "outputs": [],
   "source": [
    "from pytube import YouTube\n",
    "from pydub import AudioSegment\n",
    "import os\n",
    "import csv"
   ]
  },
  {
   "cell_type": "code",
   "execution_count": 4,
   "id": "835ded50-2c49-4241-bda9-65b2e85c8e0c",
   "metadata": {},
   "outputs": [],
   "source": [
    "output_path = \"audio_download\"\n",
    "video_ref = 1\n",
    "with open('video_links.csv', 'r') as file:\n",
    "     # Create a CSV reader\n",
    "    csv_reader = csv.DictReader(file)\n",
    "\n",
    "    for row in csv_reader:\n",
    "        video_url = row['links']\n",
    "        yt = YouTube(video_url)\n",
    "        audio_stream = yt.streams.filter(only_audio=True).first()\n",
    "        final_path = output_path + f\"/lecture{video_ref}.mp3\"\n",
    "        \n",
    "        # Download the audio stream as a temporary file\n",
    "        temp_audio_file = audio_stream.download(output_path)\n",
    "\n",
    "        # Convert the downloaded audio to MP3 format\n",
    "        audio = AudioSegment.from_file(temp_audio_file)\n",
    "        audio.export(final_path, format=\"mp3\")\n",
    "\n",
    "        # Delete the temporary audio file\n",
    "        os.remove(temp_audio_file)\n",
    "        video_ref += 1"
   ]
  }
 ],
 "metadata": {
  "kernelspec": {
   "display_name": "Python 3 (ipykernel)",
   "language": "python",
   "name": "python3"
  },
  "language_info": {
   "codemirror_mode": {
    "name": "ipython",
    "version": 3
   },
   "file_extension": ".py",
   "mimetype": "text/x-python",
   "name": "python",
   "nbconvert_exporter": "python",
   "pygments_lexer": "ipython3",
   "version": "3.9.6"
  }
 },
 "nbformat": 4,
 "nbformat_minor": 5
}
